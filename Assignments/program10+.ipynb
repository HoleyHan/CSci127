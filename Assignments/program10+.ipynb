{
 "cells": [
  {
   "cell_type": "markdown",
   "metadata": {},
   "source": [
    "# Program 10\n",
    "Write a program that implements the pseudocode below:\n",
    "\n",
    "    For i = 5, 10, 15, 20, 25, ... ,300:\n",
    "        Walk forward i steps\n",
    "        Turn left 91 degrees\n",
    "#"
   ]
  },
  {
   "cell_type": "code",
   "execution_count": null,
   "metadata": {},
   "outputs": [],
   "source": [
    "import turtle\n",
    "\n",
    "turtle.Screen()\n",
    "t = turtle.Turtle()\n",
    "#t.speed(5)\n",
    "\n",
    "#For i = 5, 10, 15, 20, 25, ... ,300:\n",
    "for i in range(5, 300, 5):\n",
    "   t.forward(i) #steps\n",
    "   t.left(91) #degrees\n",
    "\n",
    "turtle.exitonclick()"
   ]
  },
  {
   "cell_type": "markdown",
   "metadata": {},
   "source": [
    "#Program 11\n",
    "Modify the program from Lab 3 to show the shades of blue.\n",
    "\n",
    "Your output should look similar to:\n",
    "\n",
    "- Blue Dewdrop\n",
    "\n",
    "#"
   ]
  },
  {
   "cell_type": "code",
   "execution_count": null,
   "metadata": {},
   "outputs": [],
   "source": [
    "import turtle\t\t\t\t#Import the turtle drawing package\n",
    "\n",
    "turtle.colormode(255)\t\t#Allows colors to be given as 0...255\n",
    "tess = turtle.Turtle()\t\t#Create a turtle\n",
    "tess.shape(\"turtle\")\t\t#Make it turtle shaped\n",
    "tess.backward(100)\t\t\t#Move her backwards, to give more space to draw\n",
    "\n",
    "#For 0,10,20,...,250\n",
    "for i in range(0,255,10):\n",
    "     tess.forward(10)\t\t#Move forward\n",
    "     tess.pensize(i)\t\t#Set the drawing size to be i (larger each time)\n",
    "     tess.color(0, 0, i)\t\t#RGB Set the blue channel to be i (brighter each time)"
   ]
  },
  {
   "cell_type": "markdown",
   "metadata": {},
   "source": [
    "## Program15: Cipher Desk ##"
   ]
  },
  {
   "cell_type": "code",
   "execution_count": 18,
   "metadata": {},
   "outputs": [
    {
     "name": "stdout",
     "output_type": "stream",
     "text": [
      "Your word in code is:\n",
      " mroen\n"
     ]
    }
   ],
   "source": [
    "# Define the alphabet string\n",
    "alphabet = \"abcdefghijklmnopqrstuvwxyz\"\n",
    "alphabet_length = len(alphabet)\n",
    "\n",
    "# Function to perform ROT13 encoding\n",
    "def f(word):\n",
    "    encoded_word = \"\"\n",
    "    for char in word:\n",
    "        if char in alphabet:  # Ensure the character is a lowercase letter\n",
    "            index = alphabet.index(char)  # Find the index of the character in the alphabet\n",
    "            new_index = (index + 13) % alphabet_length  # Calculate the new index with wrap-around\n",
    "            encoded_word += alphabet[new_index]  # Find the new character from the alphabet\n",
    "        else:\n",
    "            encoded_word += char  # Append unchanged characters\n",
    "    return encoded_word\n",
    "\n",
    "# Prompt the user for input\n",
    "word = input(\"Enter a word: \").strip()  # Get user input and strip whitespace\n",
    "\n",
    "encoded_word = f(word)  # Call the function with the new word\n",
    "print(\"Your word in code is:\\n\", encoded_word)  # Output the shifted word\n"
   ]
  },
  {
   "cell_type": "code",
   "execution_count": 15,
   "metadata": {},
   "outputs": [
    {
     "data": {
      "application/vnd.jupyter.widget-view+json": {
       "model_id": "ceca06f83d86431e81538d80b4232813",
       "version_major": 2,
       "version_minor": 0
      },
      "text/plain": [
       "interactive(children=(Text(value='', description='Enter a word:', placeholder='Type something'), Output()), _d…"
      ]
     },
     "metadata": {},
     "output_type": "display_data"
    },
    {
     "data": {
      "text/plain": [
       "<function __main__.f(word)>"
      ]
     },
     "execution_count": 15,
     "metadata": {},
     "output_type": "execute_result"
    }
   ],
   "source": [
    "import ipywidgets as widgets\n",
    "from IPython.display import display\n",
    "\n",
    "# Define the alphabet string\n",
    "alphabet = \"abcdefghijklmnopqrstuvwxyz\"\n",
    "alphabet_length = len(alphabet)\n",
    "\n",
    "# Function to perform ROT13 encoding\n",
    "def f(word):\n",
    "    if word:  # Only process if there's input\n",
    "        encodedWord = \"\"\n",
    "        for char in word:\n",
    "            if char in alphabet:\n",
    "                index = alphabet.index(char)\n",
    "                new_index = (index + 13) % alphabet_length\n",
    "                encodedWord += alphabet[new_index]\n",
    "            else:\n",
    "                encodedWord += char\n",
    "                \n",
    "        print(\"Your word in code is:\\n\", encodedWord)\n",
    "\n",
    "# Create a text input widget with interact\n",
    "word_widget = widgets.Text(\n",
    "    value=\"\",\n",
    "    placeholder='Type something',\n",
    "    description='Enter a word:',\n",
    ")\n",
    "\n",
    "# Use interact to call the function whenever the input changes\n",
    "widgets.interact(f, word=word_widget)"
   ]
  }
 ],
 "metadata": {
  "kernelspec": {
   "display_name": "3.12.7",
   "language": "python",
   "name": "python3"
  },
  "language_info": {
   "codemirror_mode": {
    "name": "ipython",
    "version": 3
   },
   "file_extension": ".py",
   "mimetype": "text/x-python",
   "name": "python",
   "nbconvert_exporter": "python",
   "pygments_lexer": "ipython3",
   "version": "3.12.7"
  }
 },
 "nbformat": 4,
 "nbformat_minor": 4
}
