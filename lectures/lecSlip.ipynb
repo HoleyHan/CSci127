{
 "cells": [
  {
   "cell_type": "code",
   "execution_count": 10,
   "metadata": {},
   "outputs": [],
   "source": [
    "%matplotlib notebook\n"
   ]
  },
  {
   "cell_type": "code",
   "execution_count": 3,
   "metadata": {},
   "outputs": [
    {
     "data": {
      "image/png": "iVBORw0KGgoAAAANSUhEUgAAATcAAAGiCAYAAACCiYHCAAAAOXRFWHRTb2Z0d2FyZQBNYXRwbG90bGliIHZlcnNpb24zLjkuMiwgaHR0cHM6Ly9tYXRwbG90bGliLm9yZy8hTgPZAAAACXBIWXMAAA9hAAAPYQGoP6dpAAEAAElEQVR4nOz9aayu21XfC/6e/u1Wu/t9+mOwDQYMGONLCLlFxReHlFIhzVVQUIkCFKQojirXH5KgJKSQIqFQUUJIUkK3pFQSiZRyP/HlphCI5N5UVRwgGOwANu7O8Wl2v1f7dk9fH8YYz5jP2ht7nxIpnJ09t9Zea73rbZ5mzv8c4z/+Y4yo7/ueZ+PZeDaejadsxH/QB/BsPBvPxrPxn2M8A7dn49l4Np7K8Qzcno1n49l4KsczcHs2no1n46kcz8Dt2Xg2no2ncjwDt2fj2Xg2nsrxDNyejWfj2XgqxzNwezaejWfjqRzPwO3ZeDaejadyPAO3Z+PZeDaeyvFVDW7/5J/8E15++WUmkwkf+tCH+NVf/dU/6EN6Np6NZ+O/kPFVC27/6l/9Kz72sY/xt//23+YTn/gE73//+/nIRz7CvXv3/qAP7dl4Np6N/wJG9NWaOP+hD32ID37wg/zjf/yPAei6jhdeeIG//Jf/Mn/9r//1P+CjezaejWfjq32kf9AH8LhRVRW//uu/zo/92I8Nj8VxzIc//GE+/vGPP/Y1ZVlSluXwe9d1HB0dcenSJaIo+s9+zM/Gs/Fs/Ocffd9zfn7OzZs3ieMv73h+VYLbgwcPaNuWa9eujR6/du0an/nMZx77mp/8yZ/kJ37iJ/7/cXjPxrPxbPwBjzfffJPnn3/+yz7nqxLc/n8ZP/ZjP8bHPvax4ffT01NefPFF/h/8j+yxx4oTPsev8Zv8B97mmBUdPT0ZMZeYcsAMaOmpKGmYcUhLRExPy4aSFRFwmRdYsM+MBR09DR073GSf59njKhEpD7nPPe7zgLf5Ap/ijDN6cmIyYmJSYnZI+N/wzXwP38VLPE/KBOiBEmiACqiBFmjoaViy5gHnHLEGMq5ziavskZHpaytaTnmDN/gPfJbf4A0eUtIREROTEAMZB3wjr/K/5ybfyJQZHT0bOlo6Unp2gEuUHPCQBQ/JWRMh7EUPdER09LREbIjZkHBKz0NKTqipyViwxx5zLpOwQ8+CjhktGQ0RPR0JPSk9LS01PT0RYmHL0UZAAqRExEQkRAFFbM9Fnxnpv16PNBq+x8NfGV7TD+8y/r3Tn3v9Wx383uu9qOlZ07OkpyJmQsQBMNGvAkjoh8+Lh2Owz+qH97KjhYienk4fL/WzbQ5s9bEqOMYO2NJwwhvc43/lbf4/nHObni2dvrO8e0xEz4oND9lyQsuGjkaPJrwGnV5hebTXFSFXWe5ERsyClH2mXGPOTRbcYMFVFlxmwR4TdsiZM6UgpSAnJSMm0fuQ6H2N9XsEZAgUpfoYet4bWmpKYlKmZOxxTsKL/Fl2dnb4SuOrEtwuX75MkiTcvXt39Pjdu3e5fv36Y19TFAVFUTzy+Cu8yII5Gy6zYIctLSf8Ci0lW0oaGs5Y0bABGmr9N6VkypwYqDknAlJ6GjakXCInpgNyZkzZZcKCiAx06W45Y8VDoCYebpotsphep9GECQvm5EyR6VQwBjZbUDUJCTUdDS05Ew6ZsEdKSoxM9pSWKQfscZkd5kw4p1VwE8jIOOAaH+A5vp5LXCUlYksHdHT05HrdTujYMKWgIGdJRk88TP2OhoaKjg1QklDS