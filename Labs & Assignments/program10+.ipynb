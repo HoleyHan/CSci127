{
 "cells": [
  {
   "cell_type": "markdown",
   "metadata": {},
   "source": [
    "# Program 10\n",
    "Write a program that implements the pseudocode below:\n",
    "\n",
    "    For i = 5, 10, 15, 20, 25, ... ,300:\n",
    "        Walk forward i steps\n",
    "        Turn left 91 degrees\n",
    "#"
   ]
  },
  {
   "cell_type": "code",
   "execution_count": 1,
   "metadata": {},
   "outputs": [
    {
     "name": "stderr",
     "output_type": "stream",
     "text": [
      "2024-09-25 14:18:45.917 Python[13623:838256] +[IMKClient subclass]: chose IMKClient_Legacy\n",
      "2024-09-25 14:18:45.917 Python[13623:838256] +[IMKInputSession subclass]: chose IMKInputSession_Legacy\n"
     ]
    },
    {
     "ename": "",
     "evalue": "",
     "output_type": "error",
     "traceback": [
      "\u001b[1;31mThe Kernel crashed while executing code in the current cell or a previous cell. \n",
      "\u001b[1;31mPlease review the code in the cell(s) to identify a possible cause of the failure. \n",
      "\u001b[1;31mClick <a href='https://aka.ms/vscodeJupyterKernelCrash'>here</a> for more info. \n",
      "\u001b[1;31mView Jupyter <a href='command:jupyter.viewOutput'>log</a> for further details."
     ]
    }
   ],
   "source": [
    "import turtle\n",
    "\n",
    "turtle.Screen()\n",
    "t = turtle.Turtle()\n",
    "#t.speed(5)\n",
    "\n",
    "#For i = 5, 10, 15, 20, 25, ... ,300:\n",
    "for i in range(5, 300, 5):\n",
    "   t.forward(i) #steps\n",
    "   t.left(91) #degrees\n",
    "\n",
    "turtle.exitonclick()"
   ]
  },
  {
   "cell_type": "markdown",
   "metadata": {},
   "source": [
    "#Program 11\n",
    "Modify the program from Lab 3 to show the shades of blue.\n",
    "\n",
    "Your output should look similar to:\n",
    "\n",
    "- Blue Dewdrop\n",
    "\n",
    "#"
   ]
  },
  {
   "cell_type": "code",
   "execution_count": 1,
   "metadata": {},
   "outputs": [
    {
     "ename": "",
     "evalue": "",
     "output_type": "error",
     "traceback": [
      "\u001b[1;31mThe Kernel crashed while executing code in the current cell or a previous cell. \n",
      "\u001b[1;31mPlease review the code in the cell(s) to identify a possible cause of the failure. \n",
      "\u001b[1;31mClick <a href='https://aka.ms/vscodeJupyterKernelCrash'>here</a> for more info. \n",
      "\u001b[1;31mView Jupyter <a href='command:jupyter.viewOutput'>log</a> for further details."
     ]
    }
   ],
   "source": [
    "import turtle\t\t\t\t#Import the turtle drawing package\n",
    "\n",
    "turtle.colormode(255)\t\t#Allows colors to be given as 0...255\n",
    "tess = turtle.Turtle()\t\t#Create a turtle\n",
    "tess.shape(\"turtle\")\t\t#Make it turtle shaped\n",
    "tess.backward(100)\t\t\t#Move her backwards, to give more space to draw\n",
    "\n",
    "#For 0,10,20,...,250\n",
    "for i in range(0,255,10):\n",
    "     tess.forward(10)\t\t#Move forward\n",
    "     tess.pensize(i)\t\t#Set the drawing size to be i (larger each time)\n",
    "     tess.color(0, 0, i)\t\t#RGB Set the blue channel to be i (brighter each time)"
   ]
  }
 ],
 "metadata": {
  "kernelspec": {
   "display_name": "Python 3 (ipykernel)",
   "language": "python",
   "name": "python3"
  },
  "language_info": {
   "codemirror_mode": {
    "name": "ipython",
    "version": 3
   },
   "file_extension": ".py",
   "mimetype": "text/x-python",
   "name": "python",
   "nbconvert_exporter": "python",
   "pygments_lexer": "ipython3",
   "version": "3.12.5"
  }
 },
 "nbformat": 4,
 "nbformat_minor": 4
}
